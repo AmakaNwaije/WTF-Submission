{
 "cells": [
  {
   "cell_type": "markdown",
   "id": "c71ae7d3",
   "metadata": {},
   "source": [
    "### Question 1. Print all elements of a list using for loop."
   ]
  },
  {
   "cell_type": "code",
   "execution_count": 1,
   "id": "58d7172c",
   "metadata": {
    "scrolled": true
   },
   "outputs": [
    {
     "name": "stdout",
     "output_type": "stream",
     "text": [
      "<class 'list'>\n",
      "2\n",
      "4\n",
      "1\n",
      "5\n",
      "8\n",
      "9\n",
      "0\n",
      "12\n"
     ]
    }
   ],
   "source": [
    "my_list = [2, 4, 1, 5, 8, 9, 0, 12]\n",
    "print(type(my_list))\n",
    "\n",
    "for item in my_list:\n",
    "    print(item)"
   ]
  },
  {
   "cell_type": "code",
   "execution_count": null,
   "id": "e9f190c1",
   "metadata": {},
   "outputs": [],
   "source": []
  },
  {
   "cell_type": "markdown",
   "id": "7e0e874b",
   "metadata": {},
   "source": [
    "### Question 2. Using range(1,101), make two list, one containing all even numbers and other containing all odd numbers."
   ]
  },
  {
   "cell_type": "code",
   "execution_count": 14,
   "id": "f508bc47",
   "metadata": {},
   "outputs": [
    {
     "name": "stdout",
     "output_type": "stream",
     "text": [
      "[2, 4, 6, 8, 10, 12, 14, 16, 18, 20, 22, 24, 26, 28, 30, 32, 34, 36, 38, 40, 42, 44, 46, 48, 50, 52, 54, 56, 58, 60, 62, 64, 66, 68, 70, 72, 74, 76, 78, 80, 82, 84, 86, 88, 90, 92, 94, 96, 98, 100]\n",
      "[1, 3, 5, 7, 9, 11, 13, 15, 17, 19, 21, 23, 25, 27, 29, 31, 33, 35, 37, 39, 41, 43, 45, 47, 49, 51, 53, 55, 57, 59, 61, 63, 65, 67, 69, 71, 73, 75, 77, 79, 81, 83, 85, 87, 89, 91, 93, 95, 97, 99]\n"
     ]
    }
   ],
   "source": [
    "even_num = []\n",
    "odd_num = []\n",
    "\n",
    "for num in range(1,101):\n",
    "    if num % 2 == 0:  #even numbers are completely divisible by 2 without remainders\n",
    "        even_num.append(num)\n",
    "    else:\n",
    "        odd_num.append(num)\n",
    "        \n",
    "print(even_num)\n",
    "print(odd_num)"
   ]
  },
  {
   "cell_type": "code",
   "execution_count": null,
   "id": "d347b3c8",
   "metadata": {},
   "outputs": [],
   "source": []
  },
  {
   "cell_type": "markdown",
   "id": "783f8b29",
   "metadata": {},
   "source": [
    "### Question 3 - A company decided to give bonus of 5% to employee if his/her year of service is more than 5 years. Ask user for their salary and year of service and print the net bonus amount.\n"
   ]
  },
  {
   "cell_type": "code",
   "execution_count": 3,
   "id": "632fb9c5",
   "metadata": {},
   "outputs": [
    {
     "name": "stdout",
     "output_type": "stream",
     "text": [
      "What is your current salary? 2000\n",
      "What is your year of service? 7\n",
      "Net bonus amount: 100.0\n"
     ]
    }
   ],
   "source": [
    "salary = int(input('What is your current salary? '))\n",
    "year_of_serv = int(input('What is your year of service? '))\n",
    "bonus = 5/100   #or 0.05\n",
    "\n",
    "if year_of_serv > 5:\n",
    "    print('Net bonus amount:', salary*bonus)\n",
    "else:\n",
    "    print('No bonus')"
   ]
  },
  {
   "cell_type": "code",
   "execution_count": null,
   "id": "6ff786fa",
   "metadata": {},
   "outputs": [],
   "source": []
  },
  {
   "cell_type": "markdown",
   "id": "cbfb5d74",
   "metadata": {},
   "source": [
    "### Question 4 -  Take input of age of 3 people by user and determine oldest and youngest among them."
   ]
  },
  {
   "cell_type": "code",
   "execution_count": 11,
   "id": "b9e1a351",
   "metadata": {},
   "outputs": [
    {
     "name": "stdout",
     "output_type": "stream",
     "text": [
      "Enter age for user1: 30\n",
      "Enter age for user2: 12\n",
      "Enter age for user3: 22\n",
      "user1 is the oldest and user2 is the youngest\n"
     ]
    }
   ],
   "source": [
    "user1 = int(input('Enter age for user1: '))\n",
    "user2 = int(input('Enter age for user2: '))\n",
    "user3 = int(input('Enter age for user3: '))\n",
    "\n",
    "if (user1 > user2 > user3):\n",
    "    print('user1 is the oldest and user3 is the youngest')\n",
    "    \n",
    "elif (user1 > user2 < user3) & (user1 > user3):\n",
    "    print('user1 is the oldest and user2 is the youngest')\n",
    "\n",
    "elif (user3 > user2 > user1):\n",
    "    print('user3 is the oldest and user1 is the youngest')\n",
    "    \n",
    "elif (user3 > user2 < user1) & (user3 > user1):\n",
    "    print('user3 is the oldest and user2 is the youngest')\n",
    "    \n",
    "elif (user2 > user1 > user3):\n",
    "    print('user2 is the oldest and user3 is the youngest')\n",
    "    \n",
    "elif (user2> user1 < user3) & (user2 > user3):\n",
    "    print('user2 is the oldest and user1 is the youngest')\n",
    "    \n",
    "else:\n",
    "    print('Two or more users are of the same age')"
   ]
  },
  {
   "cell_type": "code",
   "execution_count": null,
   "id": "995f3ab0",
   "metadata": {},
   "outputs": [],
   "source": []
  },
  {
   "cell_type": "markdown",
   "id": "b51f584a",
   "metadata": {},
   "source": [
    "### Question 5 - A school has following rules for grading system:\n",
    "#### a. Below 25 - F b. 25 to 45 - E c. 45 to 50 - D d. 50 to 60 - C e. 60 to 80 - B f. Above 80 - A\n",
    "#### Ask user to enter marks and print the corresponding grade."
   ]
  },
  {
   "cell_type": "code",
   "execution_count": 12,
   "id": "a749e1dd",
   "metadata": {},
   "outputs": [
    {
     "name": "stdout",
     "output_type": "stream",
     "text": [
      "Enter marks: 78\n",
      "B\n"
     ]
    }
   ],
   "source": [
    "marks = int(input('Enter marks: '))\n",
    "\n",
    "if marks < 25:\n",
    "    print('F')\n",
    "elif (marks >= 25) & (marks < 45):\n",
    "    print('E')\n",
    "elif (marks >= 45) & (marks < 50):\n",
    "    print('D')\n",
    "elif (marks >= 50) & (marks < 60):\n",
    "    print('C')\n",
    "elif (marks >= 60) & (marks < 80):\n",
    "    print('B')\n",
    "else:\n",
    "    print('A')"
   ]
  },
  {
   "cell_type": "markdown",
   "id": "b7da7cc2",
   "metadata": {},
   "source": [
    "### Question 6 -  Write a Python script to merge two Python dictionaries "
   ]
  },
  {
   "cell_type": "code",
   "execution_count": 6,
   "id": "0039b9a6",
   "metadata": {},
   "outputs": [
    {
     "name": "stdout",
     "output_type": "stream",
     "text": [
      "{'name': 'Amaka', 'age': 12, 'dept': 'data science', 'group': 'A'}\n"
     ]
    }
   ],
   "source": [
    "dict1 = {'name':'Amaka', 'age': 12}\n",
    "dict2 = {'dept':'data science', 'group':'A'}\n",
    "\n",
    "merged_dict = dict1 | dict2\n",
    "print(merged_dict)"
   ]
  },
  {
   "cell_type": "markdown",
   "id": "3646a71f",
   "metadata": {},
   "source": [
    "### Question 7 - Write a Python program to remove a key from a dictionary. "
   ]
  },
  {
   "cell_type": "code",
   "execution_count": 13,
   "id": "5bfc4e25",
   "metadata": {},
   "outputs": [
    {
     "name": "stdout",
     "output_type": "stream",
     "text": [
      "{'colour': 'blue', 'animal': 'dog', 'food': 'pasta'}\n",
      "{'animal': 'dog', 'food': 'pasta'}\n"
     ]
    }
   ],
   "source": [
    "dict3 = {'colour':'blue', 'animal':'dog', 'food':'pasta'}\n",
    "print(dict3)\n",
    "\n",
    "del dict3['colour']\n",
    "print(dict3)"
   ]
  },
  {
   "cell_type": "code",
   "execution_count": 9,
   "id": "db0b36d3",
   "metadata": {},
   "outputs": [
    {
     "data": {
      "text/plain": [
       "{'food': 'pasta'}"
      ]
     },
     "execution_count": 9,
     "metadata": {},
     "output_type": "execute_result"
    }
   ],
   "source": [
    "dict3.pop('animal')\n",
    "\n",
    "dict3"
   ]
  },
  {
   "cell_type": "markdown",
   "id": "5f889dbd",
   "metadata": {},
   "source": [
    "### Question 8 - Write a Python program to get the largest number from a list"
   ]
  },
  {
   "cell_type": "code",
   "execution_count": 10,
   "id": "245f9ad8",
   "metadata": {},
   "outputs": [
    {
     "data": {
      "text/plain": [
       "18"
      ]
     },
     "execution_count": 10,
     "metadata": {},
     "output_type": "execute_result"
    }
   ],
   "source": [
    "def max_num_in_list(alist):\n",
    "    max_num = alist[0]  \n",
    "    for a in alist:\n",
    "        if a > max_num:\n",
    "            max_num = a\n",
    "    return max_num\n",
    "\n",
    "\n",
    "max_num_in_list([2, 7, 18, -40, 0, 5])"
   ]
  }
 ],
 "metadata": {
  "kernelspec": {
   "display_name": "Python 3 (ipykernel)",
   "language": "python",
   "name": "python3"
  },
  "language_info": {
   "codemirror_mode": {
    "name": "ipython",
    "version": 3
   },
   "file_extension": ".py",
   "mimetype": "text/x-python",
   "name": "python",
   "nbconvert_exporter": "python",
   "pygments_lexer": "ipython3",
   "version": "3.9.7"
  }
 },
 "nbformat": 4,
 "nbformat_minor": 5
}
